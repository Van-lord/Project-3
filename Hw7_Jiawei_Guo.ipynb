{
 "cells": [
  {
   "cell_type": "markdown",
   "metadata": {},
   "source": [
    "# (a)Choose 70% of the data randomly as the training set."
   ]
  },
  {
   "cell_type": "code",
   "execution_count": 1,
   "metadata": {},
   "outputs": [],
   "source": [
    "import random\n",
    "import math\n",
    "import pandas as pd\n",
    "df=pd.read_csv(\"/Users/guojiawei/Downloads/Anuran Calls (MFCCs)/Frogs_MFCCs.csv\")\n",
    "df1_trc=random.sample(range(df.shape[0]), math.ceil(df.shape[0]*0.7))\n",
    "df1_trc.sort()\n",
    "train = df.iloc[df1_trc,:].reset_index(drop=True)\n",
    "df1_tec=[i for i in range(df.shape[0]) if i not in df1_trc]\n",
    "test = df.iloc[df1_tec,:].reset_index(drop=True)"
   ]
  },
  {
   "cell_type": "code",
   "execution_count": 2,
   "metadata": {},
   "outputs": [
    {
     "name": "stdout",
     "output_type": "stream",
     "text": [
      "      MFCCs_ 1  MFCCs_ 2  MFCCs_ 3  MFCCs_ 4  MFCCs_ 5  MFCCs_ 6  MFCCs_ 7  \\\n",
      "0          1.0  0.152936 -0.105586  0.200722  0.317201  0.260764  0.100945   \n",
      "1          1.0  0.171534 -0.098975  0.268425  0.338672  0.268353  0.060835   \n",
      "2          1.0  0.152317 -0.082973  0.287128  0.276014  0.189867  0.008714   \n",
      "3          1.0  0.224392  0.118985  0.329432  0.372088  0.361005  0.015501   \n",
      "4          1.0  0.099704 -0.033408  0.349895  0.344535  0.247569  0.022407   \n",
      "...        ...       ...       ...       ...       ...       ...       ...   \n",
      "5032       1.0 -0.554504 -0.337717  0.035533  0.034511  0.443451  0.093889   \n",
      "5033       1.0 -0.517273 -0.370574  0.030673  0.068097  0.402890  0.096628   \n",
      "5034       1.0 -0.582557 -0.343237  0.029468  0.064179  0.385596  0.114905   \n",
      "5035       1.0 -0.519497 -0.307553 -0.004922  0.072865  0.377131  0.086866   \n",
      "5036       1.0 -0.508833 -0.324106  0.062068  0.078211  0.397188  0.094596   \n",
      "\n",
      "      MFCCs_ 8  MFCCs_ 9  MFCCs_10  ...  MFCCs_17  MFCCs_18  MFCCs_19  \\\n",
      "0    -0.150063 -0.171128  0.124676  ... -0.108351 -0.077623 -0.009568   \n",
      "1    -0.222475 -0.207693  0.170883  ... -0.090974 -0.056510 -0.035303   \n",
      "2    -0.242234 -0.219153  0.232538  ... -0.050691 -0.023590 -0.066722   \n",
      "3    -0.194347 -0.098181  0.270375  ... -0.136009 -0.177037 -0.130498   \n",
      "4    -0.213767 -0.127916  0.277353  ... -0.080487 -0.130089 -0.171478   \n",
      "...        ...       ...       ...  ...       ...       ...       ...   \n",
      "5032 -0.100753  0.037087  0.081075  ...  0.069430  0.071001  0.021591   \n",
      "5033 -0.116460  0.063727  0.089034  ...  0.061127  0.068978  0.017745   \n",
      "5034 -0.103317  0.070370  0.081317  ...  0.082474  0.077771 -0.009688   \n",
      "5035 -0.115799  0.056979  0.089316  ...  0.051796  0.069073  0.017963   \n",
      "5036 -0.117672  0.058874  0.076180  ...  0.061455  0.072983 -0.003980   \n",
      "\n",
      "      MFCCs_20  MFCCs_21  MFCCs_22           Family      Genus  \\\n",
      "0     0.057684  0.118680  0.014038  Leptodactylidae  Adenomera   \n",
      "1     0.020140  0.082263  0.029056  Leptodactylidae  Adenomera   \n",
      "2    -0.025083  0.099108  0.077162  Leptodactylidae  Adenomera   \n",
      "3    -0.054766 -0.018691  0.023954  Leptodactylidae  Adenomera   \n",
      "4    -0.071569  0.077643  0.064903  Leptodactylidae  Adenomera   \n",
      "...        ...       ...       ...              ...        ...   \n",
      "5032  0.052449 -0.021860 -0.079860          Hylidae     Scinax   \n",
      "5033  0.046461 -0.015418 -0.101892          Hylidae     Scinax   \n",
      "5034  0.027834 -0.000531 -0.080425          Hylidae     Scinax   \n",
      "5035  0.041803 -0.027911 -0.096895          Hylidae     Scinax   \n",
      "5036  0.031560 -0.029355 -0.087910          Hylidae     Scinax   \n",
      "\n",
      "             Species  RecordID  \n",
      "0     AdenomeraAndre         1  \n",
      "1     AdenomeraAndre         1  \n",
      "2     AdenomeraAndre         1  \n",
      "3     AdenomeraAndre         1  \n",
      "4     AdenomeraAndre         1  \n",
      "...              ...       ...  \n",
      "5032     ScinaxRuber        60  \n",
      "5033     ScinaxRuber        60  \n",
      "5034     ScinaxRuber        60  \n",
      "5035     ScinaxRuber        60  \n",
      "5036     ScinaxRuber        60  \n",
      "\n",
      "[5037 rows x 26 columns]\n",
      "      MFCCs_ 1  MFCCs_ 2  MFCCs_ 3  MFCCs_ 4  MFCCs_ 5  MFCCs_ 6  MFCCs_ 7  \\\n",
      "0          1.0  0.087817 -0.068345  0.306967  0.330923  0.249144  0.006884   \n",
      "1          1.0  0.145130 -0.033660  0.284166  0.279537  0.175211  0.005791   \n",
      "2          1.0  0.126523 -0.040482  0.341129  0.381446  0.261154 -0.017049   \n",
      "3          1.0  0.146299 -0.075174  0.291935  0.367094  0.268947  0.054049   \n",
      "4          1.0  0.179298 -0.038306  0.319636  0.383029  0.275313  0.099083   \n",
      "...        ...       ...       ...       ...       ...       ...       ...   \n",
      "2153       1.0  0.153789  0.522557  0.267617 -0.043499  0.034436  0.081305   \n",
      "2154       1.0  0.183156  0.506970  0.247162 -0.048503  0.041090  0.093071   \n",
      "2155       1.0 -0.515567 -0.219812  0.118473  0.106919  0.471155  0.121196   \n",
      "2156       1.0 -0.616029 -0.302357  0.063417  0.095671  0.439930  0.069414   \n",
      "2157       1.0 -0.507564 -0.249969  0.031781 -0.079888  0.484274  0.125143   \n",
      "\n",
      "      MFCCs_ 8  MFCCs_ 9  MFCCs_10  ...  MFCCs_17  MFCCs_18  MFCCs_19  \\\n",
      "0    -0.265423 -0.172700  0.266434  ... -0.048885 -0.053074 -0.088550   \n",
      "1    -0.183329 -0.158483  0.192567  ... -0.055978 -0.048219 -0.056637   \n",
      "2    -0.294064 -0.222278  0.282338  ... -0.071544 -0.060630 -0.067230   \n",
      "3    -0.242952 -0.232617  0.235722  ... -0.051154 -0.038580 -0.022396   \n",
      "4    -0.207998 -0.219215  0.182845  ... -0.110969 -0.105833 -0.115237   \n",
      "...        ...       ...       ...  ...       ...       ...       ...   \n",
      "2153  0.113272 -0.034906 -0.055563  ... -0.005648 -0.028727  0.031281   \n",
      "2154  0.109081 -0.049473 -0.044991  ... -0.008959 -0.034239  0.036489   \n",
      "2155 -0.136494  0.027486  0.106110  ...  0.049024  0.109761  0.043604   \n",
      "2156 -0.145534  0.031354  0.069073  ...  0.056971  0.037285  0.023818   \n",
      "2157 -0.069555  0.114265  0.099647  ...  0.011524  0.111998  0.015886   \n",
      "\n",
      "      MFCCs_20  MFCCs_21  MFCCs_22           Family      Genus  \\\n",
      "0    -0.031346  0.108610  0.079244  Leptodactylidae  Adenomera   \n",
      "1    -0.022419  0.070085  0.021419  Leptodactylidae  Adenomera   \n",
      "2    -0.038196  0.070127  0.048440  Leptodactylidae  Adenomera   \n",
      "3    -0.018891  0.051480  0.031871  Leptodactylidae  Adenomera   \n",
      "4    -0.012819  0.083194  0.052101  Leptodactylidae  Adenomera   \n",
      "...        ...       ...       ...              ...        ...   \n",
      "2153  0.033687  0.005242  0.014982          Hylidae     Scinax   \n",
      "2154  0.042205  0.003017  0.005602          Hylidae     Scinax   \n",
      "2155  0.047369 -0.018168 -0.085380          Hylidae     Scinax   \n",
      "2156  0.042104 -0.035603 -0.097343          Hylidae     Scinax   \n",
      "2157  0.008636 -0.021933 -0.069692          Hylidae     Scinax   \n",
      "\n",
      "             Species  RecordID  \n",
      "0     AdenomeraAndre         1  \n",
      "1     AdenomeraAndre         1  \n",
      "2     AdenomeraAndre         1  \n",
      "3     AdenomeraAndre         1  \n",
      "4     AdenomeraAndre         1  \n",
      "...              ...       ...  \n",
      "2153     ScinaxRuber        59  \n",
      "2154     ScinaxRuber        59  \n",
      "2155     ScinaxRuber        60  \n",
      "2156     ScinaxRuber        60  \n",
      "2157     ScinaxRuber        60  \n",
      "\n",
      "[2158 rows x 26 columns]\n"
     ]
    }
   ],
   "source": [
    "print(train)\n",
    "print(test)"
   ]
  },
  {
   "cell_type": "code",
   "execution_count": 4,
   "metadata": {},
   "outputs": [
    {
     "name": "stdout",
     "output_type": "stream",
     "text": [
      "      MFCCs_ 1  MFCCs_ 2  MFCCs_ 3  MFCCs_ 4  MFCCs_ 5  MFCCs_ 6  MFCCs_ 7  \\\n",
      "0          1.0  0.152936 -0.105586  0.200722  0.317201  0.260764  0.100945   \n",
      "1          1.0  0.171534 -0.098975  0.268425  0.338672  0.268353  0.060835   \n",
      "2          1.0  0.152317 -0.082973  0.287128  0.276014  0.189867  0.008714   \n",
      "3          1.0  0.224392  0.118985  0.329432  0.372088  0.361005  0.015501   \n",
      "4          1.0  0.099704 -0.033408  0.349895  0.344535  0.247569  0.022407   \n",
      "...        ...       ...       ...       ...       ...       ...       ...   \n",
      "5032       1.0 -0.554504 -0.337717  0.035533  0.034511  0.443451  0.093889   \n",
      "5033       1.0 -0.517273 -0.370574  0.030673  0.068097  0.402890  0.096628   \n",
      "5034       1.0 -0.582557 -0.343237  0.029468  0.064179  0.385596  0.114905   \n",
      "5035       1.0 -0.519497 -0.307553 -0.004922  0.072865  0.377131  0.086866   \n",
      "5036       1.0 -0.508833 -0.324106  0.062068  0.078211  0.397188  0.094596   \n",
      "\n",
      "      MFCCs_ 8  MFCCs_ 9  MFCCs_10  ...  MFCCs_13  MFCCs_14  MFCCs_15  \\\n",
      "0    -0.150063 -0.171128  0.124676  ... -0.156436  0.082245  0.135752   \n",
      "1    -0.222475 -0.207693  0.170883  ... -0.254341  0.022786  0.163320   \n",
      "2    -0.242234 -0.219153  0.232538  ... -0.237384  0.050791  0.207338   \n",
      "3    -0.194347 -0.098181  0.270375  ... -0.317084 -0.011567  0.100413   \n",
      "4    -0.213767 -0.127916  0.277353  ... -0.295123  0.012486  0.180641   \n",
      "...        ...       ...       ...  ...       ...       ...       ...   \n",
      "5032 -0.100753  0.037087  0.081075  ... -0.145668 -0.059364  0.024206   \n",
      "5033 -0.116460  0.063727  0.089034  ... -0.164675 -0.105600  0.030767   \n",
      "5034 -0.103317  0.070370  0.081317  ... -0.150025 -0.078615  0.024861   \n",
      "5035 -0.115799  0.056979  0.089316  ... -0.153120 -0.075320  0.022903   \n",
      "5036 -0.117672  0.058874  0.076180  ... -0.150554 -0.073415  0.042517   \n",
      "\n",
      "      MFCCs_16  MFCCs_17  MFCCs_18  MFCCs_19  MFCCs_20  MFCCs_21  MFCCs_22  \n",
      "0    -0.024017 -0.108351 -0.077623 -0.009568  0.057684  0.118680  0.014038  \n",
      "1     0.012022 -0.090974 -0.056510 -0.035303  0.020140  0.082263  0.029056  \n",
      "2     0.083536 -0.050691 -0.023590 -0.066722 -0.025083  0.099108  0.077162  \n",
      "3    -0.050224 -0.136009 -0.177037 -0.130498 -0.054766 -0.018691  0.023954  \n",
      "4     0.055242 -0.080487 -0.130089 -0.171478 -0.071569  0.077643  0.064903  \n",
      "...        ...       ...       ...       ...       ...       ...       ...  \n",
      "5032 -0.000861  0.069430  0.071001  0.021591  0.052449 -0.021860 -0.079860  \n",
      "5033  0.006457  0.061127  0.068978  0.017745  0.046461 -0.015418 -0.101892  \n",
      "5034  0.008696  0.082474  0.077771 -0.009688  0.027834 -0.000531 -0.080425  \n",
      "5035  0.001924  0.051796  0.069073  0.017963  0.041803 -0.027911 -0.096895  \n",
      "5036  0.004158  0.061455  0.072983 -0.003980  0.031560 -0.029355 -0.087910  \n",
      "\n",
      "[5037 rows x 22 columns]\n",
      "               Family      Genus         Species\n",
      "0     Leptodactylidae  Adenomera  AdenomeraAndre\n",
      "1     Leptodactylidae  Adenomera  AdenomeraAndre\n",
      "2     Leptodactylidae  Adenomera  AdenomeraAndre\n",
      "3     Leptodactylidae  Adenomera  AdenomeraAndre\n",
      "4     Leptodactylidae  Adenomera  AdenomeraAndre\n",
      "...               ...        ...             ...\n",
      "5032          Hylidae     Scinax     ScinaxRuber\n",
      "5033          Hylidae     Scinax     ScinaxRuber\n",
      "5034          Hylidae     Scinax     ScinaxRuber\n",
      "5035          Hylidae     Scinax     ScinaxRuber\n",
      "5036          Hylidae     Scinax     ScinaxRuber\n",
      "\n",
      "[5037 rows x 3 columns]\n",
      "      MFCCs_ 1  MFCCs_ 2  MFCCs_ 3  MFCCs_ 4  MFCCs_ 5  MFCCs_ 6  MFCCs_ 7  \\\n",
      "0          1.0  0.087817 -0.068345  0.306967  0.330923  0.249144  0.006884   \n",
      "1          1.0  0.145130 -0.033660  0.284166  0.279537  0.175211  0.005791   \n",
      "2          1.0  0.126523 -0.040482  0.341129  0.381446  0.261154 -0.017049   \n",
      "3          1.0  0.146299 -0.075174  0.291935  0.367094  0.268947  0.054049   \n",
      "4          1.0  0.179298 -0.038306  0.319636  0.383029  0.275313  0.099083   \n",
      "...        ...       ...       ...       ...       ...       ...       ...   \n",
      "2153       1.0  0.153789  0.522557  0.267617 -0.043499  0.034436  0.081305   \n",
      "2154       1.0  0.183156  0.506970  0.247162 -0.048503  0.041090  0.093071   \n",
      "2155       1.0 -0.515567 -0.219812  0.118473  0.106919  0.471155  0.121196   \n",
      "2156       1.0 -0.616029 -0.302357  0.063417  0.095671  0.439930  0.069414   \n",
      "2157       1.0 -0.507564 -0.249969  0.031781 -0.079888  0.484274  0.125143   \n",
      "\n",
      "      MFCCs_ 8  MFCCs_ 9  MFCCs_10  ...  MFCCs_13  MFCCs_14  MFCCs_15  \\\n",
      "0    -0.265423 -0.172700  0.266434  ... -0.298524  0.037439  0.219153   \n",
      "1    -0.183329 -0.158483  0.192567  ... -0.250981 -0.009015  0.184266   \n",
      "2    -0.294064 -0.222278  0.282338  ... -0.318072  0.039459  0.202870   \n",
      "3    -0.242952 -0.232617  0.235722  ... -0.308638 -0.015118  0.151180   \n",
      "4    -0.207998 -0.219215  0.182845  ... -0.344414 -0.037064  0.132052   \n",
      "...        ...       ...       ...  ...       ...       ...       ...   \n",
      "2153  0.113272 -0.034906 -0.055563  ... -0.009004  0.014452 -0.002528   \n",
      "2154  0.109081 -0.049473 -0.044991  ... -0.012019  0.017840  0.019535   \n",
      "2155 -0.136494  0.027486  0.106110  ... -0.125219 -0.038105  0.029394   \n",
      "2156 -0.145534  0.031354  0.069073  ... -0.153838 -0.042672  0.051841   \n",
      "2157 -0.069555  0.114265  0.099647  ... -0.250264 -0.058002  0.132482   \n",
      "\n",
      "      MFCCs_16  MFCCs_17  MFCCs_18  MFCCs_19  MFCCs_20  MFCCs_21  MFCCs_22  \n",
      "0     0.062837 -0.048885 -0.053074 -0.088550 -0.031346  0.108610  0.079244  \n",
      "1     0.075654 -0.055978 -0.048219 -0.056637 -0.022419  0.070085  0.021419  \n",
      "2     0.029333 -0.071544 -0.060630 -0.067230 -0.038196  0.070127  0.048440  \n",
      "3     0.029547 -0.051154 -0.038580 -0.022396 -0.018891  0.051480  0.031871  \n",
      "4    -0.000640 -0.110969 -0.105833 -0.115237 -0.012819  0.083194  0.052101  \n",
      "...        ...       ...       ...       ...       ...       ...       ...  \n",
      "2153 -0.010471 -0.005648 -0.028727  0.031281  0.033687  0.005242  0.014982  \n",
      "2154  0.002808 -0.008959 -0.034239  0.036489  0.042205  0.003017  0.005602  \n",
      "2155 -0.022552  0.049024  0.109761  0.043604  0.047369 -0.018168 -0.085380  \n",
      "2156  0.023079  0.056971  0.037285  0.023818  0.042104 -0.035603 -0.097343  \n",
      "2157 -0.016865  0.011524  0.111998  0.015886  0.008636 -0.021933 -0.069692  \n",
      "\n",
      "[2158 rows x 22 columns]\n",
      "               Family      Genus         Species\n",
      "0     Leptodactylidae  Adenomera  AdenomeraAndre\n",
      "1     Leptodactylidae  Adenomera  AdenomeraAndre\n",
      "2     Leptodactylidae  Adenomera  AdenomeraAndre\n",
      "3     Leptodactylidae  Adenomera  AdenomeraAndre\n",
      "4     Leptodactylidae  Adenomera  AdenomeraAndre\n",
      "...               ...        ...             ...\n",
      "2153          Hylidae     Scinax     ScinaxRuber\n",
      "2154          Hylidae     Scinax     ScinaxRuber\n",
      "2155          Hylidae     Scinax     ScinaxRuber\n",
      "2156          Hylidae     Scinax     ScinaxRuber\n",
      "2157          Hylidae     Scinax     ScinaxRuber\n",
      "\n",
      "[2158 rows x 3 columns]\n"
     ]
    }
   ],
   "source": [
    "train_X=train.iloc[:, :22]\n",
    "train_Y=train.iloc[:, 22:25]\n",
    "test_X=test.iloc[:, :22]\n",
    "test_Y=test.iloc[:, 22:25]\n",
    "print(train_X)\n",
    "print(train_Y)\n",
    "print(test_X)\n",
    "print(test_Y)"
   ]
  },
  {
   "cell_type": "markdown",
   "metadata": {},
   "source": [
    "# (b)i. Research exact match and hamming score/ loss methods for evaluating multilabel classification and use them in evaluating the classifiers in this problem."
   ]
  },
  {
   "cell_type": "markdown",
   "metadata": {},
   "source": [
    "Exact match is that classifing datapoints which can be classified correct labels.\n",
    "Hamming score is that in the prediction, the wrong label/total label."
   ]
  },
  {
   "cell_type": "markdown",
   "metadata": {},
   "source": [
    "# (b)ii. Train a SVM for each of the labels, using Gaussian kernels and one versus all classifiers. "
   ]
  },
  {
   "cell_type": "code",
   "execution_count": 53,
   "metadata": {},
   "outputs": [],
   "source": [
    "from sklearn.preprocessing import StandardScaler\n",
    "from sklearn.metrics import accuracy_score, hamming_loss\n",
    "from sklearn.svm import SVC\n",
    "from sklearn.model_selection import GridSearchCV\n",
    "import warnings\n",
    "warnings.filterwarnings(\"ignore\")"
   ]
  },
  {
   "cell_type": "code",
   "execution_count": 13,
   "metadata": {},
   "outputs": [],
   "source": [
    "Std=StandardScaler()\n",
    "trainstd_X=Std.fit_transform(train_X)\n",
    "teststd_X=Std.fit_transform(test_X)\n",
    "#print(trainstd_X)"
   ]
  },
  {
   "cell_type": "code",
   "execution_count": 41,
   "metadata": {},
   "outputs": [],
   "source": [
    "from sklearn.preprocessing import LabelEncoder\n",
    "import numpy as np"
   ]
  },
  {
   "cell_type": "code",
   "execution_count": 24,
   "metadata": {},
   "outputs": [],
   "source": [
    "lab=LabelEncoder()\n",
    "trainlabfam_Y=lab.fit_transform(train_Y.Family)\n",
    "testlabfam_Y=lab.fit_transform(test_Y.Family)\n",
    "trainlabgen_Y=lab.fit_transform(train_Y.Genus)\n",
    "testlabgen_Y=lab.fit_transform(test_Y.Genus)\n",
    "trainlabspe_Y=lab.fit_transform(train_Y.Species)\n",
    "testlabspe_Y =lab.fit_transform(test_Y.Species)"
   ]
  },
  {
   "cell_type": "code",
   "execution_count": 42,
   "metadata": {},
   "outputs": [],
   "source": [
    "svc = SVC(kernel=\"rbf\", decision_function_shape='ovr')\n",
    "svcPar = {\"C\": np.logspace(-2, 5, 10), \"gamma\": np.logspace(-9, 3, 10)}"
   ]
  },
  {
   "cell_type": "code",
   "execution_count": 30,
   "metadata": {},
   "outputs": [
    {
     "data": {
      "text/plain": [
       "GridSearchCV(cv=10, estimator=SVC(), n_jobs=-1,\n",
       "             param_grid={'C': array([1.00000000e-02, 5.99484250e-02, 3.59381366e-01, 2.15443469e+00,\n",
       "       1.29154967e+01, 7.74263683e+01, 4.64158883e+02, 2.78255940e+03,\n",
       "       1.66810054e+04, 1.00000000e+05]),\n",
       "                         'gamma': array([1.00000000e-09, 2.15443469e-08, 4.64158883e-07, 1.00000000e-05,\n",
       "       2.15443469e-04, 4.64158883e-03, 1.00000000e-01, 2.15443469e+00,\n",
       "       4.64158883e+01, 1.00000000e+03])})"
      ]
     },
     "execution_count": 30,
     "metadata": {},
     "output_type": "execute_result"
    }
   ],
   "source": [
    "\n",
    "gdsrCV = GridSearchCV(svc, svcPar, cv=10, n_jobs=-1)\n",
    "gdsrCV.fit(trainstd_X, trainlabfam_Y)\n",
    "\n"
   ]
  },
  {
   "cell_type": "code",
   "execution_count": 32,
   "metadata": {},
   "outputs": [
    {
     "name": "stdout",
     "output_type": "stream",
     "text": [
      "The family label\n",
      "{'C': 0.35938136638046275, 'gamma': 0.1}\n"
     ]
    }
   ],
   "source": [
    "print(\"The family label\")\n",
    "print(gdsrCV.best_params_)"
   ]
  },
  {
   "cell_type": "code",
   "execution_count": 38,
   "metadata": {},
   "outputs": [
    {
     "name": "stderr",
     "output_type": "stream",
     "text": [
      "/opt/anaconda3/lib/python3.7/site-packages/joblib/externals/loky/process_executor.py:706: UserWarning: A worker stopped while some jobs were given to the executor. This can be caused by a too short worker timeout or by a memory leak.\n",
      "  \"timeout or by a memory leak.\", UserWarning\n"
     ]
    },
    {
     "data": {
      "text/plain": [
       "GridSearchCV(cv=10, estimator=SVC(), n_jobs=-1,\n",
       "             param_grid={'C': array([1.00000000e-02, 5.99484250e-02, 3.59381366e-01, 2.15443469e+00,\n",
       "       1.29154967e+01, 7.74263683e+01, 4.64158883e+02, 2.78255940e+03,\n",
       "       1.66810054e+04, 1.00000000e+05]),\n",
       "                         'gamma': array([1.00000000e-09, 2.15443469e-08, 4.64158883e-07, 1.00000000e-05,\n",
       "       2.15443469e-04, 4.64158883e-03, 1.00000000e-01, 2.15443469e+00,\n",
       "       4.64158883e+01, 1.00000000e+03])})"
      ]
     },
     "execution_count": 38,
     "metadata": {},
     "output_type": "execute_result"
    }
   ],
   "source": [
    "gdsrCV2 = GridSearchCV(svc, svcPar, cv=10, n_jobs=-1)\n",
    "gdsrCV2.fit(trainstd_X, trainlabgen_Y)\n",
    "\n"
   ]
  },
  {
   "cell_type": "code",
   "execution_count": 39,
   "metadata": {},
   "outputs": [
    {
     "name": "stdout",
     "output_type": "stream",
     "text": [
      "The Genus label\n",
      "{'C': 12.91549665014884, 'gamma': 0.1}\n"
     ]
    }
   ],
   "source": [
    "print(\"The Genus label\")\n",
    "print(gdsrCV2.best_params_)"
   ]
  },
  {
   "cell_type": "code",
   "execution_count": 46,
   "metadata": {},
   "outputs": [
    {
     "data": {
      "text/plain": [
       "GridSearchCV(cv=10, estimator=SVC(), n_jobs=-1,\n",
       "             param_grid={'C': array([1.00000000e-02, 5.99484250e-02, 3.59381366e-01, 2.15443469e+00,\n",
       "       1.29154967e+01, 7.74263683e+01, 4.64158883e+02, 2.78255940e+03,\n",
       "       1.66810054e+04, 1.00000000e+05]),\n",
       "                         'gamma': array([1.00000000e-09, 2.15443469e-08, 4.64158883e-07, 1.00000000e-05,\n",
       "       2.15443469e-04, 4.64158883e-03, 1.00000000e-01, 2.15443469e+00,\n",
       "       4.64158883e+01, 1.00000000e+03])})"
      ]
     },
     "execution_count": 46,
     "metadata": {},
     "output_type": "execute_result"
    }
   ],
   "source": [
    "gdsrCV3 = GridSearchCV(svc, svcPar, cv=10, n_jobs=-1)\n",
    "gdsrCV3.fit(trainstd_X, trainlabspe_Y)\n"
   ]
  },
  {
   "cell_type": "code",
   "execution_count": 47,
   "metadata": {},
   "outputs": [
    {
     "name": "stdout",
     "output_type": "stream",
     "text": [
      "{'C': 12.91549665014884, 'gamma': 0.1}\n"
     ]
    }
   ],
   "source": [
    "print(\"The Species label\")\n",
    "print(gdsrCV3.best_params_)"
   ]
  },
  {
   "cell_type": "code",
   "execution_count": 48,
   "metadata": {},
   "outputs": [
    {
     "data": {
      "text/plain": [
       "0.9833178869323448"
      ]
     },
     "execution_count": 48,
     "metadata": {},
     "output_type": "execute_result"
    }
   ],
   "source": [
    "best=gdsrCV.best_estimator_\n",
    "predictfam_Y = best.predict(teststd_X)\n",
    "accuracy_score(testlabfam_Y, predict_Y)"
   ]
  },
  {
   "cell_type": "code",
   "execution_count": 50,
   "metadata": {},
   "outputs": [
    {
     "data": {
      "text/plain": [
       "0.9874884151992586"
      ]
     },
     "execution_count": 50,
     "metadata": {},
     "output_type": "execute_result"
    }
   ],
   "source": [
    "best2=gdsrCV2.best_estimator_\n",
    "predictgen_Y = best2.predict(teststd_X)\n",
    "accuracy_score(testlabgen_Y, predictgen_Y)"
   ]
  },
  {
   "cell_type": "code",
   "execution_count": 51,
   "metadata": {},
   "outputs": [
    {
     "data": {
      "text/plain": [
       "0.9828544949026877"
      ]
     },
     "execution_count": 51,
     "metadata": {},
     "output_type": "execute_result"
    }
   ],
   "source": [
    "best3=gdsrCV3.best_estimator_\n",
    "predictspe_Y = best3.predict(teststd_X)\n",
    "accuracy_score(testlabspe_Y, predictspe_Y)"
   ]
  },
  {
   "cell_type": "markdown",
   "metadata": {},
   "source": [
    "# (b)iii. Repeat 1(b)ii with L1-penalized SVMs. Remember to normalize the attributes."
   ]
  },
  {
   "cell_type": "code",
   "execution_count": 56,
   "metadata": {},
   "outputs": [],
   "source": [
    "from sklearn.svm import LinearSVC\n",
    "lsvc=LinearSVC(penalty=\"l1\", multi_class='ovr', dual=False)\n",
    "lsvcpar = {\"tol\": [1e-3, 1e-4, 1e-5, 1e-6, 1e-7, 1e-8], \"C\": np.logspace(-2, 5, 10)}"
   ]
  },
  {
   "cell_type": "code",
   "execution_count": 58,
   "metadata": {},
   "outputs": [
    {
     "data": {
      "text/plain": [
       "GridSearchCV(cv=10, estimator=LinearSVC(dual=False, penalty='l1'), n_jobs=-1,\n",
       "             param_grid={'C': array([1.00000000e-02, 5.99484250e-02, 3.59381366e-01, 2.15443469e+00,\n",
       "       1.29154967e+01, 7.74263683e+01, 4.64158883e+02, 2.78255940e+03,\n",
       "       1.66810054e+04, 1.00000000e+05]),\n",
       "                         'tol': [0.001, 0.0001, 1e-05, 1e-06, 1e-07, 1e-08]})"
      ]
     },
     "execution_count": 58,
     "metadata": {},
     "output_type": "execute_result"
    }
   ],
   "source": [
    "lgdsrCV1 = GridSearchCV(lsvc, lsvcpar, cv=10, n_jobs=-1)\n",
    "lgdsrCV1.fit(trainstd_X, trainlabfam_Y)"
   ]
  },
  {
   "cell_type": "code",
   "execution_count": 63,
   "metadata": {},
   "outputs": [
    {
     "name": "stdout",
     "output_type": "stream",
     "text": [
      "The Family label\n",
      "The accuracy score is: 0.9314179796107507\n",
      "The hamming loss is: 0.0685820203892493\n",
      "{'C': 0.05994842503189409, 'tol': 1e-06}\n"
     ]
    }
   ],
   "source": [
    "print(\"The Family label\")\n",
    "lbest1 = lgdsrCV1.best_estimator_\n",
    "lpredictfam_Y=lbest1.predict(teststd_X)\n",
    "print(\"The accuracy score is:\",accuracy_score(testlabfam_Y, lpredictfam_Y))\n",
    "print(\"The hamming loss is:\",hamming_loss(testlabfam_Y, lpredictfam_Y))\n",
    "print(lgdsrCV1.best_params_)"
   ]
  },
  {
   "cell_type": "code",
   "execution_count": 64,
   "metadata": {},
   "outputs": [
    {
     "data": {
      "text/plain": [
       "GridSearchCV(cv=10, estimator=LinearSVC(dual=False, penalty='l1'), n_jobs=-1,\n",
       "             param_grid={'C': array([1.00000000e-02, 5.99484250e-02, 3.59381366e-01, 2.15443469e+00,\n",
       "       1.29154967e+01, 7.74263683e+01, 4.64158883e+02, 2.78255940e+03,\n",
       "       1.66810054e+04, 1.00000000e+05]),\n",
       "                         'tol': [0.001, 0.0001, 1e-05, 1e-06, 1e-07, 1e-08]})"
      ]
     },
     "execution_count": 64,
     "metadata": {},
     "output_type": "execute_result"
    }
   ],
   "source": [
    "lgdsrCV2 = GridSearchCV(lsvc, lsvcpar, cv=10, n_jobs=-1)\n",
    "lgdsrCV2.fit(trainstd_X, trainlabgen_Y)"
   ]
  },
  {
   "cell_type": "code",
   "execution_count": 65,
   "metadata": {},
   "outputs": [
    {
     "name": "stdout",
     "output_type": "stream",
     "text": [
      "The Genus label\n",
      "The accuracy score is: 0.9439295644114921\n",
      "The hamming loss is: 0.056070435588507876\n",
      "{'C': 77.4263682681127, 'tol': 0.0001}\n"
     ]
    }
   ],
   "source": [
    "print(\"The Genus label\")\n",
    "lbest2 = lgdsrCV2.best_estimator_\n",
    "lpredictgen_Y=lbest2.predict(teststd_X)\n",
    "print(\"The accuracy score is:\",accuracy_score(testlabgen_Y, lpredictgen_Y))\n",
    "print(\"The hamming loss is:\",hamming_loss(testlabgen_Y, lpredictgen_Y))\n",
    "print(lgdsrCV2.best_params_)"
   ]
  },
  {
   "cell_type": "code",
   "execution_count": 66,
   "metadata": {},
   "outputs": [
    {
     "data": {
      "text/plain": [
       "GridSearchCV(cv=10, estimator=LinearSVC(dual=False, penalty='l1'), n_jobs=-1,\n",
       "             param_grid={'C': array([1.00000000e-02, 5.99484250e-02, 3.59381366e-01, 2.15443469e+00,\n",
       "       1.29154967e+01, 7.74263683e+01, 4.64158883e+02, 2.78255940e+03,\n",
       "       1.66810054e+04, 1.00000000e+05]),\n",
       "                         'tol': [0.001, 0.0001, 1e-05, 1e-06, 1e-07, 1e-08]})"
      ]
     },
     "execution_count": 66,
     "metadata": {},
     "output_type": "execute_result"
    }
   ],
   "source": [
    "lgdsrCV3 = GridSearchCV(lsvc, lsvcpar, cv=10, n_jobs=-1)\n",
    "lgdsrCV3.fit(trainstd_X, trainlabspe_Y)"
   ]
  },
  {
   "cell_type": "code",
   "execution_count": 67,
   "metadata": {},
   "outputs": [
    {
     "name": "stdout",
     "output_type": "stream",
     "text": [
      "The Species label\n",
      "The accuracy score is: 0.9518072289156626\n",
      "The hamming loss is: 0.04819277108433735\n",
      "{'C': 2.1544346900318843, 'tol': 0.001}\n"
     ]
    }
   ],
   "source": [
    "print(\"The Species label\")\n",
    "lbest3 = lgdsrCV3.best_estimator_\n",
    "lpredictspe_Y=lbest3.predict(teststd_X)\n",
    "print(\"The accuracy score is:\",accuracy_score(testlabspe_Y, lpredictspe_Y))\n",
    "print(\"The hamming loss is:\",hamming_loss(testlabspe_Y, lpredictspe_Y))\n",
    "print(lgdsrCV3.best_params_)"
   ]
  },
  {
   "cell_type": "markdown",
   "metadata": {},
   "source": [
    "# (b)iv. Repeat 1(b)iii by using SMOTE or any other method you know to remedy class imbalance."
   ]
  },
  {
   "cell_type": "code",
   "execution_count": 68,
   "metadata": {},
   "outputs": [],
   "source": [
    "from imblearn.over_sampling import SMOTE"
   ]
  },
  {
   "cell_type": "code",
   "execution_count": 73,
   "metadata": {},
   "outputs": [],
   "source": [
    "sm = SMOTE(random_state=321)\n",
    "trainfamsm_X, trainfamsm_Y=sm.fit_resample(trainstd_X,trainlabfam_Y)\n",
    "traingensm_X, traingensm_Y=sm.fit_resample(trainstd_X,trainlabgen_Y)\n",
    "trainspesm_X, trainspesm_Y=sm.fit_resample(trainstd_X,trainlabspe_Y)\n",
    "testfamsm_X, testfamsm_Y=sm.fit_resample(teststd_X,testlabfam_Y)\n",
    "testgensm_X, testgensm_Y=sm.fit_resample(teststd_X,testlabgen_Y)\n",
    "testspesm_X, testspesm_Y=sm.fit_resample(teststd_X,testlabspe_Y)"
   ]
  },
  {
   "cell_type": "code",
   "execution_count": 70,
   "metadata": {},
   "outputs": [
    {
     "data": {
      "text/plain": [
       "GridSearchCV(cv=10, estimator=LinearSVC(dual=False, penalty='l1'), n_jobs=-1,\n",
       "             param_grid={'C': array([1.00000000e-02, 5.99484250e-02, 3.59381366e-01, 2.15443469e+00,\n",
       "       1.29154967e+01, 7.74263683e+01, 4.64158883e+02, 2.78255940e+03,\n",
       "       1.66810054e+04, 1.00000000e+05]),\n",
       "                         'tol': [0.001, 0.0001, 1e-05, 1e-06, 1e-07, 1e-08]})"
      ]
     },
     "execution_count": 70,
     "metadata": {},
     "output_type": "execute_result"
    }
   ],
   "source": [
    "smgdsrCV1 = GridSearchCV(lsvc, lsvcpar, cv=10, n_jobs=-1)\n",
    "smgdsrCV1.fit(trainfamsm_X, trainfamsm_Y)"
   ]
  },
  {
   "cell_type": "code",
   "execution_count": 74,
   "metadata": {},
   "outputs": [
    {
     "name": "stdout",
     "output_type": "stream",
     "text": [
      "The Family label\n",
      "The accuracy score is: 0.9499625187406296\n",
      "The hamming loss is: 0.05003748125937031\n",
      "{'C': 2782.559402207126, 'tol': 0.001}\n"
     ]
    }
   ],
   "source": [
    "print(\"The Family label\")\n",
    "smbest1 = smgdsrCV1.best_estimator_\n",
    "smpredictfam_Y=smbest1.predict(testfamsm_X)\n",
    "print(\"The accuracy score is:\",accuracy_score(testfamsm_Y, smpredictfam_Y))\n",
    "print(\"The hamming loss is:\",hamming_loss(testfamsm_Y, smpredictfam_Y))\n",
    "print(smgdsrCV1.best_params_)"
   ]
  },
  {
   "cell_type": "code",
   "execution_count": 75,
   "metadata": {},
   "outputs": [
    {
     "data": {
      "text/plain": [
       "GridSearchCV(cv=10, estimator=LinearSVC(dual=False, penalty='l1'), n_jobs=-1,\n",
       "             param_grid={'C': array([1.00000000e-02, 5.99484250e-02, 3.59381366e-01, 2.15443469e+00,\n",
       "       1.29154967e+01, 7.74263683e+01, 4.64158883e+02, 2.78255940e+03,\n",
       "       1.66810054e+04, 1.00000000e+05]),\n",
       "                         'tol': [0.001, 0.0001, 1e-05, 1e-06, 1e-07, 1e-08]})"
      ]
     },
     "execution_count": 75,
     "metadata": {},
     "output_type": "execute_result"
    }
   ],
   "source": [
    "smgdsrCV2 = GridSearchCV(lsvc, lsvcpar, cv=10, n_jobs=-1)\n",
    "smgdsrCV2.fit(traingensm_X, traingensm_Y)"
   ]
  },
  {
   "cell_type": "code",
   "execution_count": 77,
   "metadata": {},
   "outputs": [
    {
     "name": "stdout",
     "output_type": "stream",
     "text": [
      "The Family label\n",
      "The accuracy score is: 0.9533881315156375\n",
      "The hamming loss is: 0.04661186848436247\n",
      "{'C': 464.1588833612782, 'tol': 0.001}\n"
     ]
    }
   ],
   "source": [
    "print(\"The Genus label\")\n",
    "smbest2 = smgdsrCV2.best_estimator_\n",
    "smpredictgen_Y=smbest2.predict(testgensm_X)\n",
    "print(\"The accuracy score is:\",accuracy_score(testgensm_Y, smpredictgen_Y))\n",
    "print(\"The hamming loss is:\",hamming_loss(testgensm_Y, smpredictgen_Y))\n",
    "print(smgdsrCV2.best_params_)"
   ]
  },
  {
   "cell_type": "code",
   "execution_count": 79,
   "metadata": {},
   "outputs": [
    {
     "data": {
      "text/plain": [
       "GridSearchCV(cv=10, estimator=LinearSVC(dual=False, penalty='l1'), n_jobs=-1,\n",
       "             param_grid={'C': array([1.00000000e-02, 5.99484250e-02, 3.59381366e-01, 2.15443469e+00,\n",
       "       1.29154967e+01, 7.74263683e+01, 4.64158883e+02, 2.78255940e+03,\n",
       "       1.66810054e+04, 1.00000000e+05]),\n",
       "                         'tol': [0.001, 0.0001, 1e-05, 1e-06, 1e-07, 1e-08]})"
      ]
     },
     "execution_count": 79,
     "metadata": {},
     "output_type": "execute_result"
    }
   ],
   "source": [
    "smgdsrCV3 = GridSearchCV(lsvc, lsvcpar, cv=10, n_jobs=-1)\n",
    "smgdsrCV3.fit(trainspesm_X, trainspesm_Y)"
   ]
  },
  {
   "cell_type": "code",
   "execution_count": 80,
   "metadata": {},
   "outputs": [
    {
     "name": "stdout",
     "output_type": "stream",
     "text": [
      "The Speices label\n",
      "The accuracy score is: 0.944937319189971\n",
      "The hamming loss is: 0.05506268081002893\n",
      "{'C': 77.4263682681127, 'tol': 1e-07}\n"
     ]
    }
   ],
   "source": [
    "print(\"The Speices label\")\n",
    "smbest3 = smgdsrCV3.best_estimator_\n",
    "smpredictspe_Y=smbest3.predict(testspesm_X)\n",
    "print(\"The accuracy score is:\",accuracy_score(testspesm_Y, smpredictspe_Y))\n",
    "print(\"The hamming loss is:\",hamming_loss(testspesm_Y, smpredictspe_Y))\n",
    "print(smgdsrCV3.best_params_)"
   ]
  },
  {
   "cell_type": "code",
   "execution_count": null,
   "metadata": {},
   "outputs": [],
   "source": []
  }
 ],
 "metadata": {
  "kernelspec": {
   "display_name": "Python 3",
   "language": "python",
   "name": "python3"
  },
  "language_info": {
   "codemirror_mode": {
    "name": "ipython",
    "version": 3
   },
   "file_extension": ".py",
   "mimetype": "text/x-python",
   "name": "python",
   "nbconvert_exporter": "python",
   "pygments_lexer": "ipython3",
   "version": "3.7.6"
  }
 },
 "nbformat": 4,
 "nbformat_minor": 4
}
